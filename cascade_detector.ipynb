{
 "cells": [
  {
   "cell_type": "code",
   "execution_count": null,
   "metadata": {},
   "outputs": [],
   "source": [
    "import cv2\n",
    "import numpy as np\n",
    "from skimage.io import imread\n",
    "import matplotlib.pyplot as plt\n",
    "import os\n",
    "\n",
    "%matplotlib inline\n",
    "plt.rcParams['figure.figsize'] = (20.0, 16.0)\n",
    "plt.rcParams['image.interpolation'] = 'nearest'"
   ]
  },
  {
   "cell_type": "code",
   "execution_count": null,
   "metadata": {},
   "outputs": [],
   "source": [
    "file = open('datasets/ImageSets/val.txt')\n",
    "    \n",
    "waldo_res = open('haar_test/waldo.txt', 'w+')\n",
    "wenda_res = open('haar_test/wenda.txt', 'w+')\n",
    "wizard_res = open('haar_test/wizard.txt', 'w+')\n",
    "\n",
    "waldo_cascade = cv2.CascadeClassifier('cascade/waldo/cascade.xml')\n",
    "wenda_cascade = cv2.CascadeClassifier('cascade/wenda/cascade.xml')\n",
    "wizard_cascade = cv2.CascadeClassifier('cascade/wizard/cascade.xml')\n",
    "\n",
    "\n",
    "for img_id in file.readlines():\n",
    "    img_id = img_id.rstrip()\n",
    "    print(img_id)\n",
    "    img = imread('datasets/JPEGImages/'+ img_id + '.jpg')\n",
    "    img_grey = cv2.cvtColor(img, cv2.COLOR_RGB2GRAY)\n",
    "\n",
    "\n",
    "    ## Waldo\n",
    "    waldo_candidates, _, weights_waldo = waldo_cascade.detectMultiScale3(img_grey, 1.03, 5, outputRejectLevels=True)\n",
    "    for idx, (x,y,w,h) in enumerate(waldo_candidates):\n",
    "        bboxAndConf_waldo = img_id + ' ' + str(weights_waldo[idx][0]) + ' ' + str(x) + ' ' + str(y) + ' ' + str(x+w) + ' ' + str(y+h) + '\\n'\n",
    "        waldo_res.write(bboxAndConf_waldo)\n",
    "        \n",
    "    ## Wenda\n",
    "    wenda_candidates, _, weights_wenda = wenda_cascade.detectMultiScale3(img_grey, 1.03, 5, outputRejectLevels=True)\n",
    "    for idx, (x,y,w,h) in enumerate(wenda_candidates):\n",
    "        bboxAndConf_wenda = img_id + ' ' + str(weights_wenda[idx][0]) + ' ' + str(x) + ' ' + str(y) + ' ' + str(x+w) + ' ' + str(y+h) + '\\n'\n",
    "        wenda_res.write(bboxAndConf_wenda)\n",
    "    \n",
    "    \n",
    "    ## Wizard\n",
    "    wizard_candidates, _, weights_wizard = wizard_cascade.detectMultiScale3(img_grey, 1.03, 5, outputRejectLevels=True)\n",
    "    for idx, (x,y,w,h) in enumerate(wizard_candidates):\n",
    "        bboxAndConf_wizard = img_id + ' ' + str(weights_wizard[idx][0]) + ' ' + str(x) + ' ' + str(y) + ' ' + str(x+w) + ' ' + str(y+h) + '\\n'\n",
    "        wizard_res.write(bboxAndConf_wizard)\n",
    "\n",
    "print(\"done\")"
   ]
  },
  {
   "cell_type": "code",
   "execution_count": null,
   "metadata": {
    "scrolled": false
   },
   "outputs": [],
   "source": [
    "img_name = \"032\"\n",
    "img = imread('datasets/JPEGImages/'+ img_name + '.jpg')\n",
    "img_grey = cv2.cvtColor(img, cv2.COLOR_RGB2GRAY)\n",
    "# print(len(img_grey))\n",
    "# load cascade\n",
    "waldo_cascade = cv2.CascadeClassifier('cascade/waldo/cascade.xml')\n",
    "\n",
    "\n",
    "waldo_candidates, rejections, weights = waldo_cascade.detectMultiScale3(img_grey, 1.03, 3, outputRejectLevels=True)\n",
    "# print(rejections)\n",
    "# print(weights)\n",
    "print(len(waldo_candidates))\n",
    "# print(len(weights))\n",
    "\n",
    "for idx, (x,y,w,h) in enumerate(waldo_candidates):\n",
    "    cv2.rectangle(img,(x,y),(x+w,y+h),(0,255,0),10)\n",
    "\n",
    "plt.imshow(img)"
   ]
  },
  {
   "cell_type": "code",
   "execution_count": null,
   "metadata": {},
   "outputs": [],
   "source": []
  }
 ],
 "metadata": {
  "kernelspec": {
   "display_name": "Python 3",
   "language": "python",
   "name": "python3"
  },
  "language_info": {
   "codemirror_mode": {
    "name": "ipython",
    "version": 3
   },
   "file_extension": ".py",
   "mimetype": "text/x-python",
   "name": "python",
   "nbconvert_exporter": "python",
   "pygments_lexer": "ipython3",
   "version": "3.7.3"
  }
 },
 "nbformat": 4,
 "nbformat_minor": 2
}
